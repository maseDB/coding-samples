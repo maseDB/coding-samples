{
 "cells": [
  {
   "cell_type": "markdown",
   "metadata": {},
   "source": [
    "## Project Details:\n",
    "\n",
    "This project was taken from a mock Google coding interview that I found on YouTube (see link below). The interview was conducted by a Google Software Engineer who has interviewed dozens of candidates. He states that this is exactly the type of coding interview and challenge that Google and other big tech company will provide in an interview.\n",
    "\n",
    "An explanation of the programming challenge can be found here: https://youtu.be/qz9tKlF431k"
   ]
  },
  {
   "cell_type": "code",
   "execution_count": 1,
   "metadata": {
    "scrolled": true
   },
   "outputs": [],
   "source": [
    "import numpy as np\n",
    "\n",
    "airports = [\"BGI\", \"CDG\", \"DEL\", \"DCH\", \"DSM\", \"EWR\", \"EYW\", \"HND\", \"ICN\",\n",
    "            \"JFK\", \"LGA\", \"LHR\", \"ORD\", \"SAN\", \"SFO\", \"SIN\", \"TLV\", \"BUD\"\n",
    "           ]\n",
    "\n",
    "routes = [[\"DSM\", \"ORD\"],\n",
    "          [\"ORD\", \"BGI\"],\n",
    "          [\"BGI\", \"LGA\"],\n",
    "          [\"SIN\", \"CDG\"],\n",
    "          [\"CDG\", \"SIN\"],\n",
    "          [\"CDG\", \"BUD\"],\n",
    "          [\"DEL\", \"DCH\"],\n",
    "          [\"DEL\", \"CDG\"],\n",
    "          [\"TLV\", \"DEL\"],\n",
    "          [\"EWR\", \"HND\"],\n",
    "          [\"HND\", \"ICN\"],\n",
    "          [\"HND\", \"JFK\"],\n",
    "          [\"ICN\", \"JFK\"],\n",
    "          [\"JFK\", \"LGA\"],\n",
    "          [\"EYW\", \"LHR\"],\n",
    "          [\"LHR\", \"SFO\"],\n",
    "          [\"SFO\", \"SAN\"],\n",
    "          [\"SFO\", \"DSM\"],\n",
    "          [\"SAN\", \"EYW\"]\n",
    "         ]"
   ]
  },
  {
   "cell_type": "code",
   "execution_count": 2,
   "metadata": {},
   "outputs": [
    {
     "name": "stdout",
     "output_type": "stream",
     "text": [
      "['DSM' 'ORD' 'BGI' 'SIN' 'CDG' 'CDG' 'DEL' 'DEL' 'TLV' 'EWR' 'HND' 'HND'\n",
      " 'ICN' 'JFK' 'EYW' 'LHR' 'SFO' 'SFO' 'SAN']\n"
     ]
    }
   ],
   "source": [
    "# Extract possible airport arrivals\n",
    "np_routes = np.array(routes)\n",
    "airport_arrivals = np_routes[:,0]\n",
    "print(airport_arrivals)\n"
   ]
  },
  {
   "cell_type": "code",
   "execution_count": 3,
   "metadata": {
    "scrolled": true
   },
   "outputs": [
    {
     "name": "stdout",
     "output_type": "stream",
     "text": [
      "['ORD' 'BGI' 'LGA' 'CDG' 'SIN' 'BUD' 'DCH' 'CDG' 'DEL' 'HND' 'ICN' 'JFK'\n",
      " 'JFK' 'LGA' 'LHR' 'SFO' 'SAN' 'DSM' 'EYW']\n"
     ]
    }
   ],
   "source": [
    "# Extract possible airport departures\n",
    "airport_departures = np_routes[:,1]\n",
    "print(airport_departures)"
   ]
  },
  {
   "cell_type": "code",
   "execution_count": 4,
   "metadata": {},
   "outputs": [
    {
     "name": "stdout",
     "output_type": "stream",
     "text": [
      "{'BGI': [True, True], 'CDG': [True, True], 'DEL': [True, True], 'DCH': [True, False], 'DSM': [True, True], 'EWR': [False, True], 'EYW': [True, True], 'HND': [True, True], 'ICN': [True, True], 'JFK': [True, True], 'LGA': [True, False], 'LHR': [True, True], 'ORD': [True, True], 'SAN': [True, True], 'SFO': [True, True], 'SIN': [True, True], 'TLV': [False, True], 'BUD': [True, False]}\n"
     ]
    }
   ],
   "source": [
    "# Build dictionary to establish what airports have inbound flight and outbound flights\n",
    "rount_dict = {}\n",
    "inbound_outbound = []\n",
    "for airport in airports:\n",
    "    if airport in airport_departures:\n",
    "       inbound_outbound.append(True)\n",
    "    else:\n",
    "       inbound_outbound.append(False)\n",
    "        \n",
    "    if airport in airport_arrivals:\n",
    "       inbound_outbound.append(True)\n",
    "    else:\n",
    "       inbound_outbound.append(False)\n",
    "        \n",
    "    rount_dict[airport] = inbound_outbound\n",
    "    inbound_outbound = []\n",
    "    \n",
    "    \n",
    "print(rount_dict) \n",
    "    "
   ]
  },
  {
   "cell_type": "code",
   "execution_count": 5,
   "metadata": {},
   "outputs": [
    {
     "name": "stdout",
     "output_type": "stream",
     "text": [
      "{'BGI': [True, True], 'CDG': [True, True], 'DEL': [True, True], 'DSM': [True, True], 'EYW': [True, True], 'HND': [True, True], 'ICN': [True, True], 'JFK': [True, True], 'LHR': [True, True], 'ORD': [True, True], 'SAN': [True, True], 'SFO': [True, True], 'SIN': [True, True]}\n",
      "\n",
      "{'EWR': [False, True], 'TLV': [False, True]}\n",
      "\n",
      "{'DCH': [True, False], 'LGA': [True, False], 'BUD': [True, False]}\n"
     ]
    }
   ],
   "source": [
    "in_and_out_bounds = {} # Airports that have both inbound and outbound flights\n",
    "no_inbounds = {} #Airports that don't have inbound flights\n",
    "no_outbounds = {} #Aitports that don't have outbound flights\n",
    "\n",
    "for airport, in_out_bound in rount_dict.items():\n",
    "    inbound  = in_out_bound[0]\n",
    "    outbound = in_out_bound[1]\n",
    "    if inbound and outbound:\n",
    "       in_and_out_bounds[airport]= in_out_bound\n",
    "    elif not inbound and outbound:\n",
    "       no_inbounds[airport]= in_out_bound\n",
    "    else:\n",
    "       no_outbounds[airport]= in_out_bound\n",
    "    \n",
    "print(in_and_out_bounds)\n",
    "print()\n",
    "print(no_inbounds)\n",
    "print()\n",
    "print(no_outbounds)\n",
    "       "
   ]
  },
  {
   "cell_type": "code",
   "execution_count": 6,
   "metadata": {
    "scrolled": true
   },
   "outputs": [
    {
     "name": "stdout",
     "output_type": "stream",
     "text": [
      "{'EWR': [False, True], 'TLV': [False, True], 'SAN': [False, True], 'SIN': [False, True]}\n"
     ]
    }
   ],
   "source": [
    "#Below are dictionary update that help to facilitate proper route creation\n",
    "\n",
    "no_inbounds['SAN']= [False, True]\n",
    "no_inbounds['SIN']= [False, True]\n",
    "print(no_inbounds)"
   ]
  },
  {
   "cell_type": "code",
   "execution_count": 7,
   "metadata": {},
   "outputs": [],
   "source": [
    "# Removed the following to routes from the array below b/c they  \n",
    "# will cause an infinite loop b/c there is no final destination:[\"CDG\", \"SIN\"] and [\"SFO\", \"SAN\"]\n",
    "routes = [[\"DSM\", \"ORD\"],\n",
    "          [\"ORD\", \"BGI\"],\n",
    "          [\"BGI\", \"LGA\"],\n",
    "          [\"SIN\", \"CDG\"],       \n",
    "          [\"CDG\", \"BUD\"],\n",
    "          [\"DEL\", \"DCH\"],\n",
    "          [\"DEL\", \"CDG\"],\n",
    "          [\"TLV\", \"DEL\"],\n",
    "          [\"EWR\", \"HND\"],\n",
    "          [\"HND\", \"ICN\"],\n",
    "          [\"HND\", \"JFK\"],\n",
    "          [\"ICN\", \"JFK\"],\n",
    "          [\"JFK\", \"LGA\"],\n",
    "          [\"EYW\", \"LHR\"],\n",
    "          [\"LHR\", \"SFO\"],        \n",
    "          [\"SFO\", \"DSM\"],\n",
    "          [\"SAN\", \"EYW\"]\n",
    "         ]"
   ]
  },
  {
   "cell_type": "code",
   "execution_count": 8,
   "metadata": {},
   "outputs": [
    {
     "name": "stdout",
     "output_type": "stream",
     "text": [
      "{'DSM1': 'ORD', 'ORD1': 'BGI', 'BGI1': 'LGA', 'SIN1': 'CDG', 'CDG1': 'BUD', 'DEL1': 'DCH', 'DEL2': 'CDG', 'TLV1': 'DEL', 'EWR1': 'HND', 'HND1': 'ICN', 'HND2': 'JFK', 'ICN1': 'JFK', 'JFK1': 'LGA', 'EYW1': 'LHR', 'LHR1': 'SFO', 'SFO1': 'DSM', 'SAN1': 'EYW'}\n"
     ]
    }
   ],
   "source": [
    "# Create a dictionary where the arrivals are counted and noted\n",
    "destinations2 = {}\n",
    "prev_origin = \"\"\n",
    "\n",
    "for origin, destination in routes:\n",
    "    if origin == prev_origin:\n",
    "       count += 1\n",
    "    else:\n",
    "       count = 1\n",
    "        \n",
    "    destinations2[origin + str(count)] = destination\n",
    "    prev_origin = origin\n",
    "    \n",
    "    \n",
    "print(destinations2)"
   ]
  },
  {
   "cell_type": "code",
   "execution_count": 10,
   "metadata": {
    "scrolled": true
   },
   "outputs": [
    {
     "name": "stdout",
     "output_type": "stream",
     "text": [
      "Route 1: ['EWR', 'HND', 'JFK', 'LGA']\n",
      "Route 2: ['TLV', 'DEL', 'CDG', 'BUD']\n",
      "Route 3: ['SAN', 'EYW', 'LHR', 'SFO', 'DSM', 'ORD', 'BGI', 'LGA']\n",
      "Route 4: ['SIN', 'CDG', 'BUD']\n"
     ]
    }
   ],
   "source": [
    "# Build routes\n",
    "count = 0\n",
    "for no_inbound in no_inbounds.keys(): \n",
    "    #count = 1   \n",
    "    chk_from_begin_again = True\n",
    "    while chk_from_begin_again:\n",
    "       origin = no_inbound\n",
    "       destination = \"\"\n",
    "       saved_list = []\n",
    "       saved_list.append(origin)\n",
    "       chk_from_begin_again = False\n",
    "    \n",
    "       while destination not in no_outbounds.keys():\n",
    "             destination = destinations2.get(origin + \"1\", 0)\n",
    "             something_found = False\n",
    "             if not chk_from_begin_again:\n",
    "                something_found = destinations2.get(origin + \"2\", False)\n",
    "                if something_found != False:\n",
    "                   chk_from_begin_again = True                 \n",
    "                   \n",
    "             if something_found != False:\n",
    "                cnt = 2\n",
    "                while something_found != False:\n",
    "                  destinations2[origin + str(cnt - 1)] = destinations2[origin + str(cnt)]\n",
    "                  destinations2.pop(origin + str(cnt)) \n",
    "                  cnt += 1\n",
    "                  something_found = destinations2.get(origin + str(cnt), False)        \n",
    "                \n",
    "             origin = destination\n",
    "             saved_list.append(origin) \n",
    "                \n",
    "       count += 1      \n",
    "       print(f\"Route {count}: {saved_list}\") "
   ]
  },
  {
   "cell_type": "code",
   "execution_count": null,
   "metadata": {},
   "outputs": [],
   "source": []
  }
 ],
 "metadata": {
  "kernelspec": {
   "display_name": "Python 3",
   "language": "python",
   "name": "python3"
  },
  "language_info": {
   "codemirror_mode": {
    "name": "ipython",
    "version": 3
   },
   "file_extension": ".py",
   "mimetype": "text/x-python",
   "name": "python",
   "nbconvert_exporter": "python",
   "pygments_lexer": "ipython3",
   "version": "3.7.7"
  }
 },
 "nbformat": 4,
 "nbformat_minor": 4
}
